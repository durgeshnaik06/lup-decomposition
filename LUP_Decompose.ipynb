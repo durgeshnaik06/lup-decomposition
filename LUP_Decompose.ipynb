{
 "cells": [
  {
   "cell_type": "code",
   "execution_count": 1,
   "metadata": {},
   "outputs": [],
   "source": [
    "import pprint\n",
    "import numpy as np"
   ]
  },
  {
   "cell_type": "code",
   "execution_count": 2,
   "metadata": {},
   "outputs": [],
   "source": [
    "def mult_matrix(M, N):\n",
    "\n",
    "    return [[sum(el_m * el_n for el_m, el_n in zip(row_m, col_n)) for col_n in N] for row_m in M]"
   ]
  },
  {
   "cell_type": "markdown",
   "metadata": {},
   "source": [
    "## To Find Pivot Matrix"
   ]
  },
  {
   "cell_type": "code",
   "execution_count": 3,
   "metadata": {},
   "outputs": [],
   "source": [
    "def pivot_matrix(M):\n",
    "    m = len(M)\n",
    "\n",
    "    id_mat = [[float(i ==j) for i in range(m)] for j in range(m)]\n",
    "\n",
    "    for j in range(m):\n",
    "        row = max(range(j, m), key=lambda i: abs(M[i][j]))\n",
    "        if j != row:\n",
    "            id_mat[j], id_mat[row] = id_mat[row], id_mat[j]\n",
    "\n",
    "    return id_mat"
   ]
  },
  {
   "cell_type": "markdown",
   "metadata": {},
   "source": [
    "## LUP Decomposition"
   ]
  },
  {
   "cell_type": "code",
   "execution_count": 4,
   "metadata": {},
   "outputs": [],
   "source": [
    "def lu_decomposition(A):\n",
    "    n = len(A)\n",
    "\n",
    "    L = [[0.0] * n for i in range(n)]\n",
    "    U = [[0.0] * n for i in range(n)]\n",
    "\n",
    "    P = pivot_matrix(A)\n",
    "    PA = mult_matrix(P, A)\n",
    "\n",
    "    for j in range(n):\n",
    "        L[j][j] = 1.0\n",
    "\n",
    "        for i in range(j+1):\n",
    "            s1 = sum(U[k][j] * L[i][k] for k in range(i))\n",
    "            U[i][j] = PA[i][j] - s1\n",
    "\n",
    "        for i in range(j, n):\n",
    "            s2 = sum(U[k][j] * L[i][k] for k in range(j))\n",
    "            L[i][j] = (PA[i][j] - s2) / U[j][j]\n",
    "\n",
    "    return (P, L, U)"
   ]
  },
  {
   "cell_type": "code",
   "execution_count": 5,
   "metadata": {},
   "outputs": [
    {
     "name": "stdout",
     "output_type": "stream",
     "text": [
      "A:\n",
      "[[2.0, 4.0, 1.0], [4.0, -10.0, 2.0], [1.0, 2.0, 4.0]]\n",
      "P:\n",
      "[[0.0, 1.0, 0.0], [1.0, 0.0, 0.0], [0.0, 0.0, 1.0]]\n",
      "L:\n",
      "[[1.0, 0.0, 0.0], [0.5, 1.0, 0.0], [0.25, 0.5, 1.0]]\n",
      "U:\n",
      "[[4.0, -10.0, 2.0], [0.0, 9.0, 0.0], [0.0, 0.0, 3.5]]\n"
     ]
    }
   ],
   "source": [
    "A = [[2.0, 4.0, 1.0], [4.0, -10.0, 2.0], [1.0, 2.0, 4.0]]\n",
    "B = [[5.0, 0.0, 0.0], [-8.0, 0.0, 0.0], [13.0, 0.0, 0.0]]\n",
    "P, L, U = lu_decomposition(A)\n",
    "\n",
    "print (\"A:\")\n",
    "pprint.pprint(A)\n",
    "\n",
    "print (\"P:\")\n",
    "pprint.pprint(P)\n",
    "\n",
    "print (\"L:\")\n",
    "pprint.pprint(L)\n",
    "\n",
    "print (\"U:\")\n",
    "pprint.pprint(U)"
   ]
  },
  {
   "cell_type": "markdown",
   "metadata": {},
   "source": [
    "## Forward Substitution (LY = PB)"
   ]
  },
  {
   "cell_type": "code",
   "execution_count": 6,
   "metadata": {},
   "outputs": [],
   "source": [
    "def forward_substitution(B, L):\n",
    "    n = len(L)\n",
    "    Y = [[0.0] * n for i in range(n)]\n",
    "    \n",
    "    for j in range(n):\n",
    "        Y[0][j] = B[0][j] / L[0][0]\n",
    "        \n",
    "        for i in range(1, n):\n",
    "            sum = 0\n",
    "            \n",
    "            for k in range(0, i):\n",
    "                sum = sum + L[i][k] * Y[k][j]\n",
    "            Y[i][j] = (B[i][j] - sum) / L[i][i]\n",
    "            \n",
    "    return Y"
   ]
  },
  {
   "cell_type": "code",
   "execution_count": 7,
   "metadata": {},
   "outputs": [
    {
     "name": "stdout",
     "output_type": "stream",
     "text": [
      "Y:\n",
      "[[-8.0, 0.0, 0.0], [9.0, 0.0, 0.0], [10.5, 0.0, 0.0]]\n"
     ]
    }
   ],
   "source": [
    "Y = forward_substitution(np.dot(P, B), L)\n",
    "\n",
    "print (\"Y:\")\n",
    "pprint.pprint(Y)"
   ]
  },
  {
   "cell_type": "markdown",
   "metadata": {},
   "source": [
    "## Backward Substitution (UX = Y)"
   ]
  },
  {
   "cell_type": "code",
   "execution_count": 8,
   "metadata": {},
   "outputs": [],
   "source": [
    "def backward_substitution(Y, U):\n",
    "    n = len(U)\n",
    "    X = [[0.0] * n for i in range(n)]\n",
    "    \n",
    "    for j in range(n):\n",
    "        X[n-1][j] = Y[n-1][j] / U[n-1][n-1]\n",
    "        \n",
    "        for i in range(n-2, -1, -1):\n",
    "            sum = 0\n",
    "            \n",
    "            for k in range(i+1, n):\n",
    "                sum = sum + U[i][k] * X[k][j]\n",
    "            X[i][j] = (Y[i][j] - sum) / U[i][i]\n",
    "            \n",
    "    return X"
   ]
  },
  {
   "cell_type": "code",
   "execution_count": 9,
   "metadata": {},
   "outputs": [
    {
     "name": "stdout",
     "output_type": "stream",
     "text": [
      "X:\n",
      "[[-1.0, 0.0, 0.0], [1.0, 0.0, 0.0], [3.0, 0.0, 0.0]]\n"
     ]
    }
   ],
   "source": [
    "X = backward_substitution(Y, U)\n",
    "\n",
    "print (\"X:\")\n",
    "pprint.pprint(X)"
   ]
  },
  {
   "cell_type": "markdown",
   "metadata": {},
   "source": [
    "## Verifying Conditions"
   ]
  },
  {
   "cell_type": "code",
   "execution_count": 10,
   "metadata": {},
   "outputs": [
    {
     "data": {
      "text/plain": [
       "array([[ True,  True,  True],\n",
       "       [ True,  True,  True],\n",
       "       [ True,  True,  True]])"
      ]
     },
     "execution_count": 10,
     "metadata": {},
     "output_type": "execute_result"
    }
   ],
   "source": [
    "np.dot(L,Y) == np.dot(P,B)"
   ]
  },
  {
   "cell_type": "code",
   "execution_count": 11,
   "metadata": {},
   "outputs": [
    {
     "data": {
      "text/plain": [
       "array([[ True,  True,  True],\n",
       "       [ True,  True,  True],\n",
       "       [ True,  True,  True]])"
      ]
     },
     "execution_count": 11,
     "metadata": {},
     "output_type": "execute_result"
    }
   ],
   "source": [
    "np.dot(U,X) == Y"
   ]
  },
  {
   "cell_type": "code",
   "execution_count": 12,
   "metadata": {},
   "outputs": [
    {
     "data": {
      "text/plain": [
       "array([[ True,  True,  True],\n",
       "       [ True,  True,  True],\n",
       "       [ True,  True,  True]])"
      ]
     },
     "execution_count": 12,
     "metadata": {},
     "output_type": "execute_result"
    }
   ],
   "source": [
    "np.dot(A,X) == B"
   ]
  },
  {
   "cell_type": "code",
   "execution_count": null,
   "metadata": {},
   "outputs": [],
   "source": []
  }
 ],
 "metadata": {
  "kernelspec": {
   "display_name": "Python 3",
   "language": "python",
   "name": "python3"
  },
  "language_info": {
   "codemirror_mode": {
    "name": "ipython",
    "version": 3
   },
   "file_extension": ".py",
   "mimetype": "text/x-python",
   "name": "python",
   "nbconvert_exporter": "python",
   "pygments_lexer": "ipython3",
   "version": "3.7.1"
  }
 },
 "nbformat": 4,
 "nbformat_minor": 2
}
